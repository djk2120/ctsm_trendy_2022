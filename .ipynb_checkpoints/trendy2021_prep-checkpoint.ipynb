{
 "cells": [
  {
   "cell_type": "code",
   "execution_count": 1,
   "id": "a1a551e0",
   "metadata": {},
   "outputs": [],
   "source": [
    "import numpy as np\n",
    "import pandas as pd\n",
    "import xarray as xr\n",
    "import glob\n",
    "import matplotlib\n",
    "import matplotlib.pyplot as plt\n",
    "import dask\n",
    "from datetime import datetime"
   ]
  },
  {
   "cell_type": "code",
   "execution_count": 2,
   "id": "581c7d5f",
   "metadata": {},
   "outputs": [],
   "source": [
    "# Updated for PBS scheduler\n",
    "# this could go into utils.\n",
    "# By default gets 1 core w/ 25 GB memory\n",
    "def get_ClusterClient(ncores=1, nmem='25GB'):\n",
    "    import dask\n",
    "    from dask_jobqueue import PBSCluster\n",
    "    from dask.distributed import Client\n",
    "    ncores=ncores\n",
    "    nmem = nmem\n",
    "\n",
    "    cluster = PBSCluster(\n",
    "        cores=ncores, # The number of cores you want\n",
    "        memory=nmem, # Amount of memory\n",
    "        processes=ncores, # How many processes\n",
    "        queue='casper', # The type of queue to utilize (/glade/u/apps/dav/opt/usr/bin/execcasper)\n",
    "        resource_spec='select=1:ncpus='+str(ncores)+':mem='+nmem, # Specify resources\n",
    "        project='P93300641', # Input your project ID here\n",
    "        walltime='1:00:00', # Amount of wall time\n",
    "        interface='ib0', # Interface to use\n",
    "    )\n",
    "\n",
    "    client = Client(cluster)\n",
    "    return cluster, client"
   ]
  },
  {
   "cell_type": "code",
   "execution_count": 3,
   "id": "d6aca4c8",
   "metadata": {},
   "outputs": [],
   "source": [
    "cluster, client = get_ClusterClient()\n",
    "cluster.scale(20)"
   ]
  },
  {
   "cell_type": "code",
   "execution_count": 10,
   "id": "24d305a6",
   "metadata": {},
   "outputs": [
    {
     "data": {
      "application/vnd.jupyter.widget-view+json": {
       "model_id": "6358084898284bfc822c87f3555d1f71",
       "version_major": 2,
       "version_minor": 0
      },
      "text/plain": [
       "Tab(children=(HTML(value='<div class=\"jp-RenderedHTMLCommon jp-RenderedHTML jp-mod-trusted jp-OutputArea-outpu…"
      ]
     },
     "metadata": {},
     "output_type": "display_data"
    }
   ],
   "source": [
    "client.cluster"
   ]
  },
  {
   "cell_type": "markdown",
   "id": "861c558a-79e2-43cb-b108-593ec35528da",
   "metadata": {},
   "source": [
    "### prepare the co2 file"
   ]
  },
  {
   "cell_type": "code",
   "execution_count": 3,
   "id": "b0d8d0dd-954a-420b-95e8-aa26ee475c3e",
   "metadata": {},
   "outputs": [
    {
     "name": "stderr",
     "output_type": "stream",
     "text": [
      "/glade/work/djk2120/miniconda3/envs/trendy-py/lib/python3.7/site-packages/pandas/util/_decorators.py:311: ParserWarning: Falling back to the 'python' engine because the 'c' engine does not support regex separators (separators > 1 char and different from '\\s+' are interpreted as regex); you can avoid this warning by specifying engine='python'.\n",
      "  return func(*args, **kwargs)\n"
     ]
    }
   ],
   "source": [
    "f = '/glade/scratch/djk2120/trendy2022/co2/global_co2_ann_1700_2021.txt'\n",
    "co2=pd.read_csv(f,header=None,sep=\"  \",)\n",
    "co2_from_trendy = co2[1].values"
   ]
  },
  {
   "cell_type": "code",
   "execution_count": 7,
   "id": "e106cea3-98ab-4b3f-b179-f86bbf7a4790",
   "metadata": {},
   "outputs": [],
   "source": [
    "f = '/glade/p/cgd/tss/people/dll/TRENDY2020_Forcing/fco2_datm_global_simyr_1750-2014_CMIP6_c180929.nc'\n",
    "ds1 = xr.open_dataset(f,decode_times=False)"
   ]
  },
  {
   "cell_type": "code",
   "execution_count": 16,
   "id": "f9172fae-8b24-47da-a62a-8171e9af74d1",
   "metadata": {},
   "outputs": [],
   "source": [
    "#need to append two more datapoints to the dataset\n",
    "dt = 365*(1+np.arange(2))\n",
    "ds2 = ds1.isel(time=[0,1]).copy(deep=True)\n",
    "ds2['time']=ds1['time'][-1].values+dt"
   ]
  },
  {
   "cell_type": "code",
   "execution_count": 18,
   "id": "a52b9648-7469-4287-85af-407489b49dd3",
   "metadata": {},
   "outputs": [],
   "source": [
    "ds3 = xr.concat([ds1,ds2],dim='time')\n",
    "ds3['CO2'][:]=co2_from_trendy[:,np.newaxis,np.newaxis]"
   ]
  },
  {
   "cell_type": "code",
   "execution_count": 24,
   "id": "308458a0-ef06-4058-9e74-abc7eaac10c9",
   "metadata": {},
   "outputs": [],
   "source": [
    "date = datetime.now().strftime(\"%m/%d/%Y %H:%M\")\n",
    "hist_str = date+': convert by trendy2022_prep.ipynb'\n",
    "ds3.attrs={'history':hist_str,'creation_date':date,\n",
    "              'source':'converted from TRENDYs global_co2_ann_1700_2021.txt',\n",
    "              'creator':'Daniel Kennedy, djk2120@ucar.edu'}"
   ]
  },
  {
   "cell_type": "code",
   "execution_count": 25,
   "id": "9d88253a-24bd-4319-92d2-f54ef0f5e74a",
   "metadata": {},
   "outputs": [],
   "source": [
    "#take originals, the concat adds a time dimension where it shouldnt\n",
    "for v in ds1.data_vars:\n",
    "    if 'time' not in ds1[v].coords:\n",
    "        ds3.drop(v)\n",
    "        ds3[v]=ds1[v]"
   ]
  },
  {
   "cell_type": "code",
   "execution_count": 26,
   "id": "3c4e0d0c-e8ad-424d-adcf-b86fc972aa3e",
   "metadata": {},
   "outputs": [],
   "source": [
    "ds3.to_netcdf('/glade/scratch/djk2120/trendy2022/co2/fco2_datm_global_simyr_1700-2021_TRENDY_c220831.nc')"
   ]
  },
  {
   "cell_type": "code",
   "execution_count": null,
   "id": "983d9f2f-8021-4a71-aa1d-283d5bef5e76",
   "metadata": {},
   "outputs": [],
   "source": []
  },
  {
   "cell_type": "code",
   "execution_count": null,
   "id": "92be8e41-0ce7-4f33-a31a-72f1a9ff8f99",
   "metadata": {},
   "outputs": [],
   "source": []
  },
  {
   "cell_type": "markdown",
   "id": "69bac686",
   "metadata": {
    "tags": []
   },
   "source": [
    "### edit the ndep files"
   ]
  },
  {
   "cell_type": "code",
   "execution_count": 28,
   "id": "fa2f4cc2-4ca0-4045-9808-65eca6ac8f6e",
   "metadata": {},
   "outputs": [],
   "source": [
    "f = glob.glob('/glade/scratch/djk2120/trendy2022/ndep/*.nc')\n",
    "ds2 = xr.open_mfdataset(f,combine='nested',decode_times=False,parallel=True,chunks={'time':12})"
   ]
  },
  {
   "cell_type": "code",
   "execution_count": 7,
   "id": "f71ace6d",
   "metadata": {},
   "outputs": [],
   "source": [
    "f = '/glade/p/cgd/tss/people/dll/TRENDY2019_Forcing/Ndep/TRENDY2019_Ndep_Monthly_c190821.nc'\n",
    "ds = xr.open_dataset(f)"
   ]
  },
  {
   "cell_type": "code",
   "execution_count": 30,
   "id": "358a8164",
   "metadata": {},
   "outputs": [],
   "source": [
    "ndep = xr.Dataset()\n",
    "clm_names = ['dry_deposition_NHx_as_N','dry_deposition_NOy_as_N','wet_deposition_NHx_as_N','wet_deposition_NOy_as_N']\n",
    "trn_names = ['drynhx','drynoy','wetnhx','wetnoy']\n",
    "\n",
    "for clm,trn in zip(clm_names,trn_names):\n",
    "    ndep[clm]=ds2[trn].copy(deep=True)\n",
    "    "
   ]
  },
  {
   "cell_type": "code",
   "execution_count": 31,
   "id": "0bfc2a54-d3d9-4d62-94e3-1ad84e474a75",
   "metadata": {},
   "outputs": [],
   "source": [
    "noy = 'NDEP_NOy_month'\n",
    "ndep[noy] = 1000*(ds2.drynoy+ds2.wetnoy).copy(deep=True)\n",
    "ndep[noy].attrs = ds[noy].attrs\n",
    "\n",
    "nhx = 'NDEP_NHx_month'\n",
    "ndep[nhx] = 1000*(ds2.drynhx+ds2.wetnhx).copy(deep=True)\n",
    "ndep[nhx].attrs = ds[nhx].attrs\n",
    "\n",
    "ntot = 'NDEP_month'\n",
    "ndep[ntot] = ndep[noy]+ndep[nhx]\n",
    "ndep[ntot].attrs = ds[ntot].attrs\n",
    "ndep['time']=ds['time'].copy(deep=True)"
   ]
  },
  {
   "cell_type": "code",
   "execution_count": 33,
   "id": "06911a5c",
   "metadata": {},
   "outputs": [],
   "source": [
    "thedir = '/glade/scratch/djk2120/trendy2022/ndep/'\n",
    "nfile  = thedir+'TRENDY2022_Ndep_Monthly_c220802.nc'\n",
    "ndep['dry_deposition_NHx_as_N'].to_netcdf(nfile)"
   ]
  },
  {
   "cell_type": "code",
   "execution_count": 34,
   "id": "3ef1d184",
   "metadata": {},
   "outputs": [
    {
     "name": "stdout",
     "output_type": "stream",
     "text": [
      "dry_deposition_NOy_as_N\n",
      "wet_deposition_NHx_as_N\n",
      "wet_deposition_NOy_as_N\n",
      "NDEP_NOy_month\n",
      "NDEP_NHx_month\n",
      "NDEP_month\n"
     ]
    }
   ],
   "source": [
    "appends = list(ndep.data_vars)\n",
    "appends.remove('dry_deposition_NHx_as_N')\n",
    "for thisvar in appends:\n",
    "    print(thisvar)\n",
    "    ndep[thisvar].to_netcdf(nfile,'a')"
   ]
  },
  {
   "cell_type": "code",
   "execution_count": 144,
   "id": "636547ea",
   "metadata": {},
   "outputs": [],
   "source": [
    "da = ds.datesec.copy(deep=True)\n",
    "da[:]=0\n",
    "ndep['datesec'] = da.copy(deep=True)"
   ]
  },
  {
   "cell_type": "code",
   "execution_count": 145,
   "id": "974d98f7",
   "metadata": {},
   "outputs": [],
   "source": [
    "ndep['date']=ds['date'].copy(deep=True)"
   ]
  },
  {
   "cell_type": "code",
   "execution_count": 149,
   "id": "b53cd5f7",
   "metadata": {},
   "outputs": [],
   "source": [
    "gw = np.cos(ndep.lat/360*2*np.pi)\n",
    "gw = 2*gw/gw.sum()\n",
    "ndep['gw'] = xr.DataArray(gw,dims='lat')"
   ]
  },
  {
   "cell_type": "code",
   "execution_count": 162,
   "id": "98345728",
   "metadata": {},
   "outputs": [
    {
     "name": "stdout",
     "output_type": "stream",
     "text": [
      "date\n",
      "datesec\n",
      "gw\n"
     ]
    }
   ],
   "source": [
    "appends = ['date','datesec','gw']\n",
    "for thisvar in appends:\n",
    "    print(thisvar)\n",
    "    ndep[thisvar].to_netcdf(nfile,'a')"
   ]
  },
  {
   "cell_type": "code",
   "execution_count": null,
   "id": "b4f02740",
   "metadata": {},
   "outputs": [],
   "source": []
  }
 ],
 "metadata": {
  "kernelspec": {
   "display_name": "Python [conda env:miniconda3-trendy-py]",
   "language": "python",
   "name": "conda-env-miniconda3-trendy-py-py"
  },
  "language_info": {
   "codemirror_mode": {
    "name": "ipython",
    "version": 3
   },
   "file_extension": ".py",
   "mimetype": "text/x-python",
   "name": "python",
   "nbconvert_exporter": "python",
   "pygments_lexer": "ipython3",
   "version": "3.7.10"
  }
 },
 "nbformat": 4,
 "nbformat_minor": 5
}
