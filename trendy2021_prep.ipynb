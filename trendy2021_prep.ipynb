{
 "cells": [
  {
   "cell_type": "code",
   "execution_count": 1,
   "id": "a1a551e0",
   "metadata": {},
   "outputs": [],
   "source": [
    "import numpy as np\n",
    "import pandas as pd\n",
    "import xarray as xr\n",
    "import glob\n",
    "import matplotlib\n",
    "import matplotlib.pyplot as plt\n",
    "import dask\n",
    "from datetime import datetime"
   ]
  },
  {
   "cell_type": "code",
   "execution_count": 2,
   "id": "581c7d5f",
   "metadata": {},
   "outputs": [],
   "source": [
    "# Updated for PBS scheduler\n",
    "# this could go into utils.\n",
    "# By default gets 1 core w/ 25 GB memory\n",
    "def get_ClusterClient(ncores=1, nmem='25GB'):\n",
    "    import dask\n",
    "    from dask_jobqueue import PBSCluster\n",
    "    from dask.distributed import Client\n",
    "    ncores=ncores\n",
    "    nmem = nmem\n",
    "\n",
    "    cluster = PBSCluster(\n",
    "        cores=ncores, # The number of cores you want\n",
    "        memory=nmem, # Amount of memory\n",
    "        processes=ncores, # How many processes\n",
    "        queue='casper', # The type of queue to utilize (/glade/u/apps/dav/opt/usr/bin/execcasper)\n",
    "        resource_spec='select=1:ncpus='+str(ncores)+':mem='+nmem, # Specify resources\n",
    "        project='P93300641', # Input your project ID here\n",
    "        walltime='1:00:00', # Amount of wall time\n",
    "        interface='ib0', # Interface to use\n",
    "    )\n",
    "\n",
    "    client = Client(cluster)\n",
    "    return cluster, client"
   ]
  },
  {
   "cell_type": "code",
   "execution_count": 3,
   "id": "d6aca4c8",
   "metadata": {},
   "outputs": [],
   "source": [
    "cluster, client = get_ClusterClient()\n",
    "cluster.scale(20)"
   ]
  },
  {
   "cell_type": "code",
   "execution_count": 10,
   "id": "24d305a6",
   "metadata": {},
   "outputs": [
    {
     "data": {
      "application/vnd.jupyter.widget-view+json": {
       "model_id": "6358084898284bfc822c87f3555d1f71",
       "version_major": 2,
       "version_minor": 0
      },
      "text/plain": [
       "Tab(children=(HTML(value='<div class=\"jp-RenderedHTMLCommon jp-RenderedHTML jp-mod-trusted jp-OutputArea-outpu…"
      ]
     },
     "metadata": {},
     "output_type": "display_data"
    }
   ],
   "source": [
    "client.cluster"
   ]
  },
  {
   "cell_type": "markdown",
   "id": "69bac686",
   "metadata": {
    "tags": []
   },
   "source": [
    "### edit the ndep files"
   ]
  },
  {
   "cell_type": "code",
   "execution_count": 28,
   "id": "fa2f4cc2-4ca0-4045-9808-65eca6ac8f6e",
   "metadata": {},
   "outputs": [],
   "source": [
    "f = glob.glob('/glade/scratch/djk2120/trendy2022/ndep/*.nc')\n",
    "ds2 = xr.open_mfdataset(f,combine='nested',decode_times=False,parallel=True,chunks={'time':12})"
   ]
  },
  {
   "cell_type": "code",
   "execution_count": 7,
   "id": "f71ace6d",
   "metadata": {},
   "outputs": [],
   "source": [
    "f = '/glade/p/cgd/tss/people/dll/TRENDY2019_Forcing/Ndep/TRENDY2019_Ndep_Monthly_c190821.nc'\n",
    "ds = xr.open_dataset(f)"
   ]
  },
  {
   "cell_type": "code",
   "execution_count": 30,
   "id": "358a8164",
   "metadata": {},
   "outputs": [],
   "source": [
    "ndep = xr.Dataset()\n",
    "clm_names = ['dry_deposition_NHx_as_N','dry_deposition_NOy_as_N','wet_deposition_NHx_as_N','wet_deposition_NOy_as_N']\n",
    "trn_names = ['drynhx','drynoy','wetnhx','wetnoy']\n",
    "\n",
    "for clm,trn in zip(clm_names,trn_names):\n",
    "    ndep[clm]=ds2[trn].copy(deep=True)\n",
    "    "
   ]
  },
  {
   "cell_type": "code",
   "execution_count": 31,
   "id": "0bfc2a54-d3d9-4d62-94e3-1ad84e474a75",
   "metadata": {},
   "outputs": [],
   "source": [
    "noy = 'NDEP_NOy_month'\n",
    "ndep[noy] = 1000*(ds2.drynoy+ds2.wetnoy).copy(deep=True)\n",
    "ndep[noy].attrs = ds[noy].attrs\n",
    "\n",
    "nhx = 'NDEP_NHx_month'\n",
    "ndep[nhx] = 1000*(ds2.drynhx+ds2.wetnhx).copy(deep=True)\n",
    "ndep[nhx].attrs = ds[nhx].attrs\n",
    "\n",
    "ntot = 'NDEP_month'\n",
    "ndep[ntot] = ndep[noy]+ndep[nhx]\n",
    "ndep[ntot].attrs = ds[ntot].attrs\n",
    "ndep['time']=ds['time'].copy(deep=True)"
   ]
  },
  {
   "cell_type": "code",
   "execution_count": 33,
   "id": "06911a5c",
   "metadata": {},
   "outputs": [],
   "source": [
    "thedir = '/glade/scratch/djk2120/trendy2022/ndep/'\n",
    "nfile  = thedir+'TRENDY2022_Ndep_Monthly_c220802.nc'\n",
    "ndep['dry_deposition_NHx_as_N'].to_netcdf(nfile)"
   ]
  },
  {
   "cell_type": "code",
   "execution_count": 34,
   "id": "3ef1d184",
   "metadata": {},
   "outputs": [
    {
     "name": "stdout",
     "output_type": "stream",
     "text": [
      "dry_deposition_NOy_as_N\n",
      "wet_deposition_NHx_as_N\n",
      "wet_deposition_NOy_as_N\n",
      "NDEP_NOy_month\n",
      "NDEP_NHx_month\n",
      "NDEP_month\n"
     ]
    }
   ],
   "source": [
    "appends = list(ndep.data_vars)\n",
    "appends.remove('dry_deposition_NHx_as_N')\n",
    "for thisvar in appends:\n",
    "    print(thisvar)\n",
    "    ndep[thisvar].to_netcdf(nfile,'a')"
   ]
  },
  {
   "cell_type": "code",
   "execution_count": 144,
   "id": "636547ea",
   "metadata": {},
   "outputs": [],
   "source": [
    "da = ds.datesec.copy(deep=True)\n",
    "da[:]=0\n",
    "ndep['datesec'] = da.copy(deep=True)"
   ]
  },
  {
   "cell_type": "code",
   "execution_count": 145,
   "id": "974d98f7",
   "metadata": {},
   "outputs": [],
   "source": [
    "ndep['date']=ds['date'].copy(deep=True)"
   ]
  },
  {
   "cell_type": "code",
   "execution_count": 149,
   "id": "b53cd5f7",
   "metadata": {},
   "outputs": [],
   "source": [
    "gw = np.cos(ndep.lat/360*2*np.pi)\n",
    "gw = 2*gw/gw.sum()\n",
    "ndep['gw'] = xr.DataArray(gw,dims='lat')"
   ]
  },
  {
   "cell_type": "code",
   "execution_count": 162,
   "id": "98345728",
   "metadata": {},
   "outputs": [
    {
     "name": "stdout",
     "output_type": "stream",
     "text": [
      "date\n",
      "datesec\n",
      "gw\n"
     ]
    }
   ],
   "source": [
    "appends = ['date','datesec','gw']\n",
    "for thisvar in appends:\n",
    "    print(thisvar)\n",
    "    ndep[thisvar].to_netcdf(nfile,'a')"
   ]
  },
  {
   "cell_type": "code",
   "execution_count": null,
   "id": "b4f02740",
   "metadata": {},
   "outputs": [],
   "source": []
  }
 ],
 "metadata": {
  "kernelspec": {
   "display_name": "Python [conda env:miniconda3-trendy-py]",
   "language": "python",
   "name": "conda-env-miniconda3-trendy-py-py"
  },
  "language_info": {
   "codemirror_mode": {
    "name": "ipython",
    "version": 3
   },
   "file_extension": ".py",
   "mimetype": "text/x-python",
   "name": "python",
   "nbconvert_exporter": "python",
   "pygments_lexer": "ipython3",
   "version": "3.7.10"
  }
 },
 "nbformat": 4,
 "nbformat_minor": 5
}
